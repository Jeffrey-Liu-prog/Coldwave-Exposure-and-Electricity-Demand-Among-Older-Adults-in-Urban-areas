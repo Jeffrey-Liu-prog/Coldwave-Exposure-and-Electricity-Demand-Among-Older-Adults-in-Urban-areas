{
 "cells": [
  {
   "cell_type": "code",
   "execution_count": null,
   "id": "401d2269-297f-4454-860e-5fe2ded6f31d",
   "metadata": {},
   "outputs": [],
   "source": [
    "import pandas as pd\n",
    "from scipy.stats import mannwhitneyu, kendalltau"
   ]
  },
  {
   "cell_type": "code",
   "execution_count": null,
   "id": "c60bb912-bed3-4ed3-aef1-af14301771b1",
   "metadata": {},
   "outputs": [],
   "source": [
    "# Group data by 'year', 'month', 'latitude', and 'longitude'\n",
    "grouped = annual_data.groupby(['latitude', 'longitude'])\n",
    "\n",
    "# Function to apply the Mann-Kendall test\n",
    "def apply_mk_test(group):\n",
    "    # Check that the group has enough data points for the test\n",
    "    if len(group['minT']) > 1:\n",
    "        tau, p_value = kendalltau(range(len(group['minT'])), group['minT'])\n",
    "        return pd.Series({'tau': tau, 'p_value': p_value})\n",
    "    else:\n",
    "        return pd.Series({'tau': None, 'p_value': None})\n",
    "\n",
    "# Apply the Mann-Kendall test to each group\n",
    "results = grouped.apply(apply_mk_test)\n",
    "\n",
    "# Reset index to make 'year', 'month', 'latitude', 'longitude' as columns\n",
    "results = results.reset_index()"
   ]
  },
  {
   "cell_type": "code",
   "execution_count": null,
   "id": "dd4c276e-5572-4de4-bf34-eaf410aef3e5",
   "metadata": {},
   "outputs": [],
   "source": []
  }
 ],
 "metadata": {
  "kernelspec": {
   "display_name": "Python 3 (ipykernel)",
   "language": "python",
   "name": "python3"
  },
  "language_info": {
   "codemirror_mode": {
    "name": "ipython",
    "version": 3
   },
   "file_extension": ".py",
   "mimetype": "text/x-python",
   "name": "python",
   "nbconvert_exporter": "python",
   "pygments_lexer": "ipython3",
   "version": "3.8.17"
  }
 },
 "nbformat": 4,
 "nbformat_minor": 5
}
