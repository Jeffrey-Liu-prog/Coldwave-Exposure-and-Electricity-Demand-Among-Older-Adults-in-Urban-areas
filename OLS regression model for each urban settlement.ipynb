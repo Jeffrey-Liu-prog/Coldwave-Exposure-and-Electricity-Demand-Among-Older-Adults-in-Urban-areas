{
 "cells": [
  {
   "cell_type": "code",
   "execution_count": null,
   "id": "0b58e22e-406e-4946-ba7d-4d4b960fdc89",
   "metadata": {},
   "outputs": [],
   "source": [
    "import pandas as pd\n",
    "import numpy as np\n",
    "import statsmodels.api as sm"
   ]
  },
  {
   "cell_type": "code",
   "execution_count": null,
   "id": "f6b55a5c-b701-44f5-80ce-564b69fc5d66",
   "metadata": {},
   "outputs": [],
   "source": [
    "#filter the data in 1980\n",
    "df_1980 = df[df['year'] == 1980]\n",
    "\n",
    "# Summing up TP over all entries for 1980 for each unique location\n",
    "df_1980_agg = df_1980.groupby(['latitude', 'longitude']).agg(TP_1980=('TP', 'sum')).reset_index()\n",
    "\n",
    "# Merge this aggregated data back to the main DataFrame\n",
    "# This ensures every entry in the main DataFrame has a TP_1980 value corresponding to its location\n",
    "df = df.merge(df_1980_agg, on=['latitude', 'longitude'], how='left')"
   ]
  },
  {
   "cell_type": "code",
   "execution_count": null,
   "id": "07f2049d-228e-4ea0-96af-3e01df8afa93",
   "metadata": {},
   "outputs": [],
   "source": [
    "# Calculate the total and specific exposures based on HDDs as an example\n",
    "df['Exp_TP'] = df['TP'].fillna(0) * df['HDD']\n",
    "df['Exp_AP'] = df['AP'] * df['HDD']\n",
    "df['UCM_ij'] = df['TP_1980'] * df['HDD']  # Using TP from 1980\n",
    "df['UG_ij'] = (df['TP'].fillna(0) - df['TP_1980']) * df['HDD']\n",
    "\n",
    "# Initialize a list to hold the regression results\n",
    "results = []\n",
    "\n",
    "# Perform regressions for each location and each metric\n",
    "for (lat, lon), group in df.groupby(['latitude', 'longitude']):\n",
    "    X = sm.add_constant(group['year'])  # Adding a constant term to the predictors\n",
    "\n",
    "    # Regression models for exposure due to total precipitation and vapor pressure\n",
    "    model_total = sm.OLS(group['Exp_TP'], X).fit()\n",
    "    model_specific = sm.OLS(group['Exp_AP'].fillna(0), X).fit()\n",
    "    model_heat = sm.OLS(group['UCM_ij'], X).fit()\n",
    "    model_pop = sm.OLS(group['UG_ij'], X).fit()\n",
    "\n",
    "    # Calculate index for difference between population growth and heating effect normalized by total exposure\n",
    "    beta_pop = model_pop.params['year']\n",
    "    beta_heat = model_heat.params['year']\n",
    "    index = (beta_pop - beta_heat) / abs(beta_pop) if beta_pop != 0 else 0  # Handle division by zero\n",
    "\n",
    "    # Append results including all coefficients and the index\n",
    "    results.append({\n",
    "        'latitude': lat,\n",
    "        'longitude': lon,\n",
    "        'beta_exp_TP': model_total.params['year'],\n",
    "        'beta_exp_AP': model_specific.params['year'],\n",
    "        'beta_UCM': beta_heat,\n",
    "        'beta_UG': beta_pop,\n",
    "        'Index': index\n",
    "    })\n",
    "\n",
    "# Convert results to a DataFrame for further analysis or export\n",
    "results_df = pd.DataFrame(results)"
   ]
  },
  {
   "cell_type": "code",
   "execution_count": null,
   "id": "34c30676-03ba-418a-8efe-345e8d7e226b",
   "metadata": {},
   "outputs": [],
   "source": []
  }
 ],
 "metadata": {
  "kernelspec": {
   "display_name": "Python 3 (ipykernel)",
   "language": "python",
   "name": "python3"
  },
  "language_info": {
   "codemirror_mode": {
    "name": "ipython",
    "version": 3
   },
   "file_extension": ".py",
   "mimetype": "text/x-python",
   "name": "python",
   "nbconvert_exporter": "python",
   "pygments_lexer": "ipython3",
   "version": "3.8.17"
  }
 },
 "nbformat": 4,
 "nbformat_minor": 5
}
