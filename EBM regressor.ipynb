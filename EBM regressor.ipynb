{
 "cells": [
  {
   "cell_type": "code",
   "execution_count": null,
   "id": "2509b5b6-c5a4-42a8-b9f8-1e16b8d2a0f2",
   "metadata": {},
   "outputs": [],
   "source": [
    "import os\n",
    "import pandas as pd\n",
    "import numpy as np\n",
    "import pickle\n",
    "from sklearn.model_selection import train_test_split\n",
    "from sklearn.metrics import accuracy_score, classification_report\n",
    "from interpret import show\n",
    "from interpret import set_visualize_provider\n",
    "from interpret.provider import InlineProvider\n",
    "from interpret.glassbox import ExplainableBoostingRegressor\n",
    "from sklearn.metrics import mean_squared_error, mean_absolute_error, r2_score"
   ]
  },
  {
   "cell_type": "code",
   "execution_count": null,
   "id": "d0c2661d-6f59-4e46-b29b-7fa9260bc88e",
   "metadata": {},
   "outputs": [],
   "source": [
    "df=pd.read_csv(\"where the training dataset is\")"
   ]
  },
  {
   "cell_type": "code",
   "execution_count": null,
   "id": "f507a84d-e4e0-4ced-af3b-08e0e0477aea",
   "metadata": {},
   "outputs": [],
   "source": [
    "#filter by region\n",
    "north_america = df[df['Region'] == 'North America']\n",
    "western_asia = df[df['Region'] == 'Western Asia']\n",
    "eastern_asia = df[df['Region'] == 'Eastern Asia']\n",
    "central_asia = df[df['Region'] == 'Central Asia']\n",
    "southern_asia = df[df['Region'] == 'Southern Asia']\n",
    "northern_europe = df[df['Region'] == 'Northern Europe']\n",
    "western_europe = df[df['Region'] == 'Western Europe']\n",
    "central_europe = df[df['Region'] == 'Central Europe']\n",
    "southern_europe = df[df['Region'] == 'Southern Europe']\n",
    "eastern_europe = df[df['Region'] == 'Eastern Europe']\n",
    "southeastern_europe = df[df['Region'] == 'Southeastern Europe']\n",
    "north_africa = df[df['Region'] == 'Northern Africa']\n",
    "eastern_africa = df[df['Region'] == 'Eastern Africa']\n",
    "south_america = df[df['Region'] == 'South America']\n",
    "southern_africa =df[df['Region'] == 'Southern Africa']\n",
    "oceania =df[df['Region'] == 'Oceania']"
   ]
  },
  {
   "cell_type": "code",
   "execution_count": null,
   "id": "cdece4b5-fa76-4e0c-9596-dbe119886c56",
   "metadata": {},
   "outputs": [],
   "source": [
    "#exclude countries will not have cold wave in the future\n",
    "north_america = north_america[north_america['NAME'] != 'Cuba']\n",
    "#filter the outliers\n",
    "Df = \n",
    "Q1 = Df['EC_per_capita'].quantile(0.25)\n",
    "Q3 = Df['EC_per_capita'].quantile(0.75)\n",
    "IQR = Q3 - Q1\n",
    "\n",
    "# Using the IQR method calculated above\n",
    "Df = Df[~((Df['EC_per_capita'] < (Q1 - 1.5 * IQR)) | (Df['EC_per_capita'] > (Q3 + 1.5 * IQR)) )]"
   ]
  },
  {
   "cell_type": "code",
   "execution_count": null,
   "id": "3bde8b6e-ddde-4cdb-bc14-694774fca492",
   "metadata": {},
   "outputs": [],
   "source": [
    "X = Df.iloc[:,3:15]\n",
    "y = Df.iloc[:,-3]\n",
    "X_train, X_test, y_train, y_test = train_test_split(X, y, test_size=0.2, random_state=42)"
   ]
  },
  {
   "cell_type": "code",
   "execution_count": null,
   "id": "ee08805b-2c9d-40c2-8b15-13fd87197b4e",
   "metadata": {},
   "outputs": [],
   "source": [
    "# Initialize and train the Explainable Boosting Regressor\n",
    "ebm =  ExplainableBoostingRegressor(random_state=42)\n",
    "ebm.fit(X_train, y_train)\n",
    "# Make predictions on the test set\n",
    "predictions = ebm.predict(X_test)\n",
    "# Evaluate the model\n",
    "train_score = ebm.score(X_train, y_train)\n",
    "test_score = ebm.score(X_test, y_test)\n",
    "mse = mean_squared_error(y_test, predictions)\n",
    "rmse = np.sqrt(mse)  # Calculate RMSE\n",
    "# Calculate MAE\n",
    "mae = mean_absolute_error(y_test, predictions)"
   ]
  },
  {
   "cell_type": "code",
   "execution_count": null,
   "id": "79365b37-f362-40d2-be72-cc545295d32a",
   "metadata": {},
   "outputs": [],
   "source": [
    "print(f\"Training score: {train_score:.3f}\")\n",
    "print(f\"Test score: {test_score:.3f}\")\n",
    "print(f\"Root Mean Squared Error: {rmse:.2f}\")\n",
    "print(f\"Mean Absolute Error: {mae:.2f}\")"
   ]
  },
  {
   "cell_type": "code",
   "execution_count": null,
   "id": "d43f71af-4158-4420-aac3-94006a0d761d",
   "metadata": {},
   "outputs": [],
   "source": [
    "# or load trained models\n",
    "os.chdir(\"\")\n",
    "ebm = ExplainableBoostingRegressor(random_state=42)\n",
    "ebm.fit(X, y)\n",
    "\n",
    "with open('north_america_EC.pkl', 'wb') as file:\n",
    "    pickle.dump(ebm, file)"
   ]
  },
  {
   "cell_type": "code",
   "execution_count": null,
   "id": "7b87747c-9da4-4c0f-969a-23980c6db188",
   "metadata": {},
   "outputs": [],
   "source": [
    "#got global explanation\n",
    "global_explanation = ebm.explain_global()\n",
    "# Visualize the global explanation\n",
    "show(global_explanation)"
   ]
  },
  {
   "cell_type": "code",
   "execution_count": null,
   "id": "53cf86bd-4da6-4e47-b0a6-b2ca5786be93",
   "metadata": {},
   "outputs": [],
   "source": [
    "#get local explanation\n",
    "local_explanations = ebm.explain_local(X_filtered, y_filtered)\n",
    "# Visualize the local explanations\n",
    "show(local_explanations)"
   ]
  }
 ],
 "metadata": {
  "kernelspec": {
   "display_name": "Python 3 (ipykernel)",
   "language": "python",
   "name": "python3"
  },
  "language_info": {
   "codemirror_mode": {
    "name": "ipython",
    "version": 3
   },
   "file_extension": ".py",
   "mimetype": "text/x-python",
   "name": "python",
   "nbconvert_exporter": "python",
   "pygments_lexer": "ipython3",
   "version": "3.8.17"
  }
 },
 "nbformat": 4,
 "nbformat_minor": 5
}
