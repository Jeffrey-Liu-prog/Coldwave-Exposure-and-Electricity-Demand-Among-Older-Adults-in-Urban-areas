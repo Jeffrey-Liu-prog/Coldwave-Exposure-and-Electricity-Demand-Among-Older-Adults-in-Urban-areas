{
 "cells": [
  {
   "cell_type": "code",
   "execution_count": null,
   "id": "ab9389c7-80b9-47a0-aec2-719760187bd1",
   "metadata": {},
   "outputs": [],
   "source": [
    "import pandas as pd\n",
    "import numpy as np"
   ]
  },
  {
   "cell_type": "code",
   "execution_count": null,
   "id": "1a559bde-e00b-4e5b-9531-e99969104162",
   "metadata": {},
   "outputs": [],
   "source": [
    "def convert_yearly_to_monthly(data_path, output_folder):\n",
    "    \n",
    "    # Load the CSV file\n",
    "    df = pd.read_csv(data_path)\n",
    "    \n",
    "    # Constants for oscillation\n",
    "    df['c'] = 0.45 * np.pi * np.sign(df['latitude'])\n",
    "\n",
    "    # Define tas for Summer (W) and Winter (C)\n",
    "    conditions_summer = ((df['latitude'] >= 0) & df['month'].isin([6, 7, 8])) | ((df['latitude'] < 0) & df['month'].isin([1, 2, 12]))\n",
    "    conditions_winter = ((df['latitude'] >= 0) & df['month'].isin([1, 2, 12])) | ((df['latitude'] < 0) & df['month'].isin([6, 7, 8]))\n",
    "\n",
    "    df['tas(W)'] = np.where(conditions_summer, df['tas'] - 273.15, np.nan)\n",
    "    df['tas(C)'] = np.where(conditions_winter, df['tas'] - 273.15, np.nan)\n",
    "\n",
    "    # Conditions for oscillation factors\n",
    "    df['fa1'] = df['tas(W)'].notna().astype(int)\n",
    "    df['fa2'] = df['latitude'].between(-34, 35).astype(int)\n",
    "    df['fa3'] = df['tas(C)'].notna().astype(int)\n",
    "    df['fa4'] = ((df['latitude'] <= -34) | (df['latitude'] >= 35)).astype(int)\n",
    "    \n",
    "    # Calculations for a1 and a2 based on available temperatures\n",
    "    df['a1'] = np.where(df['fa1'] == 1, (1 - np.exp(-(32.2 - df['tas(W)']) / 47.9)) * df['fa2'], 1)\n",
    "    df['a2'] = np.where(df['fa3'] == 1, 0.1335 * (1 - np.exp(-(12.5 - df['tas(C)']) / 15.2)) * df['fa4'], 1)\n",
    "\n",
    "    # Ensure a1 and a2 are at least 1\n",
    "    df['a1'] = np.maximum(df['a1'], 1)\n",
    "    df['a2'] = np.maximum(df['a2'], 1)\n",
    "\n",
    "    # Calculate oscillation sum factor\n",
    "    df['oscillation_sum'] = (3 * df['a1'] + 3 * df['a2'] + 6)\n",
    "\n",
    "    # Calculate monthly EC based on oscillation\n",
    "    df['EC_osc'] = df['EC'] / df['oscillation_sum']\n",
    "    df['monthly_EC'] = np.where(df['fa1'] == 1, df['a1'] * df['EC_osc'], np.where(df['fa3'] == 1, df['a2'] * df['EC_osc'], df['EC_osc']))"
   ]
  }
 ],
 "metadata": {
  "kernelspec": {
   "display_name": "Python 3 (ipykernel)",
   "language": "python",
   "name": "python3"
  },
  "language_info": {
   "codemirror_mode": {
    "name": "ipython",
    "version": 3
   },
   "file_extension": ".py",
   "mimetype": "text/x-python",
   "name": "python",
   "nbconvert_exporter": "python",
   "pygments_lexer": "ipython3",
   "version": "3.8.17"
  }
 },
 "nbformat": 4,
 "nbformat_minor": 5
}
