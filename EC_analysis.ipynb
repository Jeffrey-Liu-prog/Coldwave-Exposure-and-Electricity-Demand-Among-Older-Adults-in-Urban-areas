{
 "cells": [
  {
   "cell_type": "code",
   "execution_count": null,
   "id": "a1a05fb2-e46e-480c-b029-2bcc1dacd1f2",
   "metadata": {},
   "outputs": [],
   "source": [
    "import pandas as pd\n",
    "import os\n",
    "import glob\n",
    "import numpy as np"
   ]
  },
  {
   "cell_type": "code",
   "execution_count": null,
   "id": "d2d128e4-7a4b-45ff-a086-6c9ee7178afc",
   "metadata": {},
   "outputs": [],
   "source": [
    "#directory contains the projected EC files\n",
    "directory = ''"
   ]
  },
  {
   "cell_type": "code",
   "execution_count": null,
   "id": "de1a9749-3275-4173-9d1a-526e8a1f6dc8",
   "metadata": {},
   "outputs": [],
   "source": [
    "combined_results = pd.DataFrame()\n",
    "\n",
    "# Loop through each file in the directory\n",
    "for filename in os.listdir(directory):\n",
    "    if filename.endswith('.csv'):\n",
    "        # Read the CSV file\n",
    "        filepath = os.path.join(directory, filename)\n",
    "        data = pd.read_csv(filepath)\n",
    "\n",
    "        # Function to remove outliers based on the IQR method\n",
    "        def remove_outliers(df, column):\n",
    "            Q1 = df[column].quantile(0.25)\n",
    "            Q3 = df[column].quantile(0.75)\n",
    "            IQR = Q3 - Q1\n",
    "            return df[~((df[column] < (Q1 - 1.5 * IQR)) | (df[column] > (Q3 + 1.5 * IQR)))]\n",
    "\n",
    "        # Apply outlier removal for both EC_per_capita and EC_per_capita_2019\n",
    "        data = remove_outliers(data, 'EC_per_capita')\n",
    "        data_filtered = remove_outliers(data, 'EC_per_capita_2019')\n",
    "\n",
    "        # Calculate the regional sums for TP and TP_2019\n",
    "        region_TP_sums = data.groupby('Region')['TP'].sum().rename('TP_sum')\n",
    "        region_TP_2019_sums = data_filtered.groupby('Region')['TP_2019'].sum().rename('TP_2019_sum')\n",
    "\n",
    "        # Merge these sums back to the respective dataframes\n",
    "        data = data.merge(region_TP_sums, on='Region')\n",
    "        data_filtered = data_filtered.merge(region_TP_2019_sums, on='Region')\n",
    "\n",
    "        # Calculate weighted EC per capita\n",
    "        data['weighted_EC'] = (data['TP'] / data['TP_sum']) * data['EC_per_capita']\n",
    "        data_filtered['weighted_EC_2019'] = (data_filtered['TP_2019'] / data_filtered['TP_2019_sum']) * data_filtered['EC_per_capita_2019']\n",
    "\n",
    "        # Sum up weighted EC per capita by region\n",
    "        grouped_data = data.groupby('Region')['weighted_EC'].sum().reset_index()\n",
    "        grouped_data_2019 = data_filtered.groupby('Region')['weighted_EC_2019'].sum().reset_index()\n",
    "\n",
    "        # Combine the 2019 and non-2019 data\n",
    "        grouped_data = pd.merge(grouped_data, grouped_data_2019, on='Region', how='outer')\n",
    "\n",
    "        # Extract SSP scenario from filename (e.g., SSP126 from SSP126_Predictions.csv)\n",
    "        ssp_scenario = filename.split('_')[0]\n",
    "\n",
    "        # Add a new column for the SSP scenario\n",
    "        grouped_data['SSP'] = ssp_scenario\n",
    "\n",
    "        # Append to the combined DataFrame\n",
    "        combined_results = pd.concat([combined_results, grouped_data], ignore_index=True)"
   ]
  }
 ],
 "metadata": {
  "kernelspec": {
   "display_name": "Python 3 (ipykernel)",
   "language": "python",
   "name": "python3"
  },
  "language_info": {
   "codemirror_mode": {
    "name": "ipython",
    "version": 3
   },
   "file_extension": ".py",
   "mimetype": "text/x-python",
   "name": "python",
   "nbconvert_exporter": "python",
   "pygments_lexer": "ipython3",
   "version": "3.8.17"
  }
 },
 "nbformat": 4,
 "nbformat_minor": 5
}
