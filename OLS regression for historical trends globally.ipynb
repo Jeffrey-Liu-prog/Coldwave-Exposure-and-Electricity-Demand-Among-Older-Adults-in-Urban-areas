{
 "cells": [
  {
   "cell_type": "code",
   "execution_count": null,
   "id": "3a253bb7-cacb-445d-ad1a-b391753519df",
   "metadata": {},
   "outputs": [],
   "source": [
    "import pandas as pd\n",
    "import numpy as np\n",
    "import statsmodels.api as sm"
   ]
  },
  {
   "cell_type": "code",
   "execution_count": null,
   "id": "a5092b7c-34a9-46b6-b27e-b14df193e1b3",
   "metadata": {},
   "outputs": [],
   "source": [
    "# example: calculate the total exposure for TP and AP of CWDs exposure \n",
    "df['TP_CWD'] = df['TP'] * df['CWDs']\n",
    "df['AP_CWD'] = df['AP'] * df['CWDs']\n",
    "\n",
    "# Aggregate these new columns by year\n",
    "yearly_data = df.groupby('year').agg(TP_CWD_sum=('TP_CWD', 'sum'), AP_CWD_sum=('AP_CWD', 'sum')).reset_index()\n",
    "\n",
    "yearly_data['TP_CWD_sum'] /= 1e9\n",
    "yearly_data['AP_CWD_sum'] /= 1e9\n",
    "\n",
    "# Fit linear regression models\n",
    "X = sm.add_constant(yearly_data['year'])  # Adding a constant term for the intercept\n",
    "model_tp_cwd = sm.OLS(yearly_data['TP_CWD_sum'], X).fit()\n",
    "model_ap_cwd = sm.OLS(yearly_data['AP_CWD_sum'], X).fit()\n",
    "\n",
    "# Predict values for plotting\n",
    "yearly_data['TP_CWD_trend'] = model_tp_cwd.predict(X)\n",
    "yearly_data['AP_CWD_trend'] = model_ap_cwd.predict(X)\n",
    "\n",
    "# Extracting slopes\n",
    "slope_pop = model_tp_cwd.params['year']\n",
    "slope_ap = model_ap_cwd.params['year']\n",
    "\n",
    "print(\"Slope for Population Trend:\", slope_pop)\n",
    "print(\"Slope for ap Trend:\", slope_ap)"
   ]
  },
  {
   "cell_type": "code",
   "execution_count": null,
   "id": "8c0aa1cc-2fd7-4ea7-a1da-06326b4a732c",
   "metadata": {},
   "outputs": [],
   "source": []
  }
 ],
 "metadata": {
  "kernelspec": {
   "display_name": "Python 3 (ipykernel)",
   "language": "python",
   "name": "python3"
  },
  "language_info": {
   "codemirror_mode": {
    "name": "ipython",
    "version": 3
   },
   "file_extension": ".py",
   "mimetype": "text/x-python",
   "name": "python",
   "nbconvert_exporter": "python",
   "pygments_lexer": "ipython3",
   "version": "3.8.17"
  }
 },
 "nbformat": 4,
 "nbformat_minor": 5
}
